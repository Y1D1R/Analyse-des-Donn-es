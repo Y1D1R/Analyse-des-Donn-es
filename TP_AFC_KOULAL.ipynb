{
  "nbformat": 4,
  "nbformat_minor": 0,
  "metadata": {
    "colab": {
      "provenance": []
    },
    "kernelspec": {
      "name": "python3",
      "display_name": "Python 3"
    },
    "language_info": {
      "name": "python"
    }
  },
  "cells": [
    {
      "cell_type": "markdown",
      "source": [
        "# **KOULAL Yidhir Aghiles**\n",
        "#AFC\n",
        "L'AFC (Analyse Factorielle des Correspondances) est une méthode statistique utilisée pour explorer et visualiser les relations entre plusieurs variables qualitatives. Il s'agit d'une technique d'analyse des données multivariées qui permet de réduire la dimensionnalité des données en représentant les variables sous forme de facteurs. Les facteurs sont des axes sur lesquels les variables sont corrélées les unes aux autres, permettant une visualisation plus simple des relations entre les variables. L'AFC peut être utilisée pour comprendre les structures complexes de relations entre les variables et pour identifier les groupes de variables similaires."
      ],
      "metadata": {
        "id": "sRvddoB4wiqU"
      }
    },
    {
      "cell_type": "markdown",
      "source": [
        "##Les lebreries utilisées"
      ],
      "metadata": {
        "id": "uBX2bs8LeNbV"
      }
    },
    {
      "cell_type": "code",
      "execution_count": null,
      "metadata": {
        "id": "D9pPsnEzd2tZ"
      },
      "outputs": [],
      "source": [
        "import numpy as np\n",
        "import matplotlib.pyplot as plt\n",
        "import seaborn as sns\n",
        "from numpy import linalg as LA"
      ]
    },
    {
      "cell_type": "markdown",
      "source": [
        "##La matrice de contingence K"
      ],
      "metadata": {
        "id": "LqhmGPUieV4_"
      }
    },
    {
      "cell_type": "code",
      "source": [
        "K = np.array([[1,1,0], [1,1,1], [1,0,0], [0,1,1], [0,0,1]])\n",
        "K"
      ],
      "metadata": {
        "colab": {
          "base_uri": "https://localhost:8080/"
        },
        "id": "xcZTfLdxeTH2",
        "outputId": "88d999a6-176b-4fbd-a457-a6316373e13c"
      },
      "execution_count": null,
      "outputs": [
        {
          "output_type": "execute_result",
          "data": {
            "text/plain": [
              "array([[1, 1, 0],\n",
              "       [1, 1, 1],\n",
              "       [1, 0, 0],\n",
              "       [0, 1, 1],\n",
              "       [0, 0, 1]])"
            ]
          },
          "metadata": {},
          "execution_count": 3
        }
      ]
    },
    {
      "cell_type": "markdown",
      "source": [
        "##Calcul de la matrice des fréquences relatives"
      ],
      "metadata": {
        "id": "TwNHKFvVfDH5"
      }
    },
    {
      "cell_type": "code",
      "source": [
        "def matrice_frequences_relatives(m):\n",
        "  fr = np.zeros(m.shape)\n",
        "  s = np.sum(m[:,:])\n",
        "  for i in range(len(m)):\n",
        "    \n",
        "    for j in range(len(m[i])):\n",
        "    \n",
        "      fr[i][j] = m[i][j] / s\n",
        "      #print(np.sum(m[:,:])) \n",
        "\n",
        "  return fr"
      ],
      "metadata": {
        "id": "Kf3jL_DXeii0"
      },
      "execution_count": null,
      "outputs": []
    },
    {
      "cell_type": "code",
      "source": [
        "fr = matrice_frequences_relatives(K)\n",
        "fr"
      ],
      "metadata": {
        "colab": {
          "base_uri": "https://localhost:8080/"
        },
        "id": "x9zb7YmDfS4l",
        "outputId": "e6c9e9bb-c54f-47c8-85fc-1401bc3dd59e"
      },
      "execution_count": null,
      "outputs": [
        {
          "output_type": "execute_result",
          "data": {
            "text/plain": [
              "array([[0.11111111, 0.11111111, 0.        ],\n",
              "       [0.11111111, 0.11111111, 0.11111111],\n",
              "       [0.11111111, 0.        , 0.        ],\n",
              "       [0.        , 0.11111111, 0.11111111],\n",
              "       [0.        , 0.        , 0.11111111]])"
            ]
          },
          "metadata": {},
          "execution_count": 5
        }
      ]
    },
    {
      "cell_type": "markdown",
      "source": [
        "##Calcul de la matrice des profils-lignes transformée et centrée"
      ],
      "metadata": {
        "id": "aYb3SuuVgqej"
      }
    },
    {
      "cell_type": "code",
      "source": [
        "#1- la matrice profil lignes\n",
        "pligne = np.zeros_like(fr)\n",
        "\n",
        "for i in range (K.shape[0]):\n",
        "    for j in range (K.shape[1]):\n",
        "        pligne[i][j] = fr[i][j] / sum(fr[i, :])\n",
        "\n",
        "pligne"
      ],
      "metadata": {
        "colab": {
          "base_uri": "https://localhost:8080/"
        },
        "id": "2XkHmiV9gvIv",
        "outputId": "b16a8253-1ca2-4cd5-b0bb-39f91e8d3187"
      },
      "execution_count": null,
      "outputs": [
        {
          "output_type": "execute_result",
          "data": {
            "text/plain": [
              "array([[0.5       , 0.5       , 0.        ],\n",
              "       [0.33333333, 0.33333333, 0.33333333],\n",
              "       [1.        , 0.        , 0.        ],\n",
              "       [0.        , 0.5       , 0.5       ],\n",
              "       [0.        , 0.        , 1.        ]])"
            ]
          },
          "metadata": {},
          "execution_count": 6
        }
      ]
    },
    {
      "cell_type": "code",
      "source": [
        "#2- le centre de gravité\n",
        "g = [ ]\n",
        "g.append(np.sqrt(sum(fr[:, 0])))\n",
        "g.append(np.sqrt(sum(fr[:, 1])))\n",
        "g.append(np.sqrt(sum(fr[:, 2])))\n",
        "g=np.array(g)\n",
        "g"
      ],
      "metadata": {
        "colab": {
          "base_uri": "https://localhost:8080/"
        },
        "id": "-5sfSIp2hYCh",
        "outputId": "0a259eab-2d8c-4c61-d456-47e924c0a263"
      },
      "execution_count": null,
      "outputs": [
        {
          "output_type": "execute_result",
          "data": {
            "text/plain": [
              "array([0.57735027, 0.57735027, 0.57735027])"
            ]
          },
          "metadata": {},
          "execution_count": 7
        }
      ]
    },
    {
      "cell_type": "code",
      "source": [
        "#3- la matrice des profils lignes transformé\n",
        "mplt = np.zeros((5,3))\n",
        "\n",
        "for i in range (K.shape[0]):\n",
        "    for j in range (K.shape[1]):\n",
        "        mplt[i][j] = pligne[i][j] / np.sqrt(sum(fr[:, 0])) \n",
        "mplt"
      ],
      "metadata": {
        "colab": {
          "base_uri": "https://localhost:8080/"
        },
        "id": "f9PpB4zRiDnA",
        "outputId": "2cf00d49-4bc7-401c-d0db-f8e23e1f7eb5"
      },
      "execution_count": null,
      "outputs": [
        {
          "output_type": "execute_result",
          "data": {
            "text/plain": [
              "array([[0.8660254 , 0.8660254 , 0.        ],\n",
              "       [0.57735027, 0.57735027, 0.57735027],\n",
              "       [1.73205081, 0.        , 0.        ],\n",
              "       [0.        , 0.8660254 , 0.8660254 ],\n",
              "       [0.        , 0.        , 1.73205081]])"
            ]
          },
          "metadata": {},
          "execution_count": 8
        }
      ]
    },
    {
      "cell_type": "code",
      "source": [
        "#4- la matrice des profils lignes transformé et centrée\n",
        "Y = np.zeros_like(mplt)\n",
        "\n",
        "for i in range (K.shape[0]):\n",
        "    for j in range (K.shape[1]):\n",
        "        Y[i][j] = mplt[i][j] - g[j]\n",
        "\n",
        "Y"
      ],
      "metadata": {
        "colab": {
          "base_uri": "https://localhost:8080/"
        },
        "id": "91fhotMxicrX",
        "outputId": "8a3a0176-6524-4de1-974e-69ecf75b1fb3"
      },
      "execution_count": null,
      "outputs": [
        {
          "output_type": "execute_result",
          "data": {
            "text/plain": [
              "array([[ 0.28867513,  0.28867513, -0.57735027],\n",
              "       [ 0.        ,  0.        ,  0.        ],\n",
              "       [ 1.15470054, -0.57735027, -0.57735027],\n",
              "       [-0.57735027,  0.28867513,  0.28867513],\n",
              "       [-0.57735027, -0.57735027,  1.15470054]])"
            ]
          },
          "metadata": {},
          "execution_count": 9
        }
      ]
    },
    {
      "cell_type": "markdown",
      "source": [
        "##Les frequences marginales lignes"
      ],
      "metadata": {
        "id": "va8El7QijRy-"
      }
    },
    {
      "cell_type": "code",
      "source": [
        "fml = [ ]\n",
        "fml.append(np.sum(fr[0, :]))\n",
        "fml.append(np.sum(fr[1, :]))\n",
        "fml.append(np.sum(fr[2, :]))\n",
        "fml.append(np.sum(fr[3, :]))\n",
        "fml.append(np.sum(fr[4, :]))\n",
        "fml = np.array(fml)\n",
        "\n",
        "\n",
        "fmc = [ ]\n",
        "fmc.append(np.sum(fr[ :,0]))\n",
        "fmc.append(np.sum(fr[ :,1]))\n",
        "fmc.append(np.sum(fr[:,2]))\n",
        "fmc = np.array(fmc)\n",
        "print(fml,fmc)"
      ],
      "metadata": {
        "colab": {
          "base_uri": "https://localhost:8080/"
        },
        "id": "pF2oDLpFjMt8",
        "outputId": "2246915f-3145-47d1-a585-62fdf69b3776"
      },
      "execution_count": null,
      "outputs": [
        {
          "output_type": "stream",
          "name": "stdout",
          "text": [
            "[0.22222222 0.33333333 0.11111111 0.22222222 0.11111111] [0.33333333 0.33333333 0.33333333]\n"
          ]
        }
      ]
    },
    {
      "cell_type": "markdown",
      "source": [
        "##La matrice d'inertie V"
      ],
      "metadata": {
        "id": "OUFMV6KZkHQr"
      }
    },
    {
      "cell_type": "code",
      "source": [
        "I = np.zeros((5,5))\n",
        "for i in range(I.shape[0]):\n",
        "  for j in range(I.shape[1]):\n",
        "    if (i==j):\n",
        "      I[i][j]=fml[j]\n",
        "I      "
      ],
      "metadata": {
        "colab": {
          "base_uri": "https://localhost:8080/"
        },
        "id": "d8i-RpunkMrA",
        "outputId": "ae03510e-b690-4467-8fc1-f5e6990c0a53"
      },
      "execution_count": null,
      "outputs": [
        {
          "output_type": "execute_result",
          "data": {
            "text/plain": [
              "array([[0.22222222, 0.        , 0.        , 0.        , 0.        ],\n",
              "       [0.        , 0.33333333, 0.        , 0.        , 0.        ],\n",
              "       [0.        , 0.        , 0.11111111, 0.        , 0.        ],\n",
              "       [0.        , 0.        , 0.        , 0.22222222, 0.        ],\n",
              "       [0.        , 0.        , 0.        , 0.        , 0.11111111]])"
            ]
          },
          "metadata": {},
          "execution_count": 11
        }
      ]
    },
    {
      "cell_type": "code",
      "source": [
        "#La matrice d'inertie\n",
        "V =np.matmul(np.matmul(Y.T, I), Y)\n",
        "V"
      ],
      "metadata": {
        "colab": {
          "base_uri": "https://localhost:8080/"
        },
        "id": "K6HPe_hKkoxl",
        "outputId": "9ae9af37-08d3-40f9-8884-3e694b9038c0"
      },
      "execution_count": null,
      "outputs": [
        {
          "output_type": "execute_result",
          "data": {
            "text/plain": [
              "array([[ 0.27777778, -0.05555556, -0.22222222],\n",
              "       [-0.05555556,  0.11111111, -0.05555556],\n",
              "       [-0.22222222, -0.05555556,  0.27777778]])"
            ]
          },
          "metadata": {},
          "execution_count": 12
        }
      ]
    },
    {
      "cell_type": "code",
      "source": [
        "#Les valeurs propres et les vecteurs propres\n",
        "valp, vectp = LA.eig(V)\n",
        "print(\"Les valeurs propres : \\n\",valp,\"\\n\\n\")\n",
        "print(\"Les vecteurs propes : \\n\",vectp)\n",
        "\n",
        "plt.plot(sorted(valp,reverse=True))"
      ],
      "metadata": {
        "colab": {
          "base_uri": "https://localhost:8080/",
          "height": 428
        },
        "id": "niVdNEU9k-io",
        "outputId": "79237243-a1e6-4111-a5a8-10acc16eb9d9"
      },
      "execution_count": null,
      "outputs": [
        {
          "output_type": "stream",
          "name": "stdout",
          "text": [
            "Les valeurs propres : \n",
            " [ 5.00000000e-01 -3.63508424e-17  1.66666667e-01] \n",
            "\n",
            "\n",
            "Les vecteurs propes : \n",
            " [[-7.07106781e-01  5.77350269e-01  4.08248290e-01]\n",
            " [-2.18122638e-16  5.77350269e-01 -8.16496581e-01]\n",
            " [ 7.07106781e-01  5.77350269e-01  4.08248290e-01]]\n"
          ]
        },
        {
          "output_type": "execute_result",
          "data": {
            "text/plain": [
              "[<matplotlib.lines.Line2D at 0x7fe72fc7c190>]"
            ]
          },
          "metadata": {},
          "execution_count": 24
        },
        {
          "output_type": "display_data",
          "data": {
            "text/plain": [
              "<Figure size 432x288 with 1 Axes>"
            ],
            "image/png": "[encoded data removed]"
          },
          "metadata": {
            "needs_background": "light"
          }
        }
      ]
    },
    {
      "cell_type": "code",
      "source": [
        "Trace = V[0][0] + V[1][1] + V[2][2]\n",
        "Trace"
      ],
      "metadata": {
        "colab": {
          "base_uri": "https://localhost:8080/"
        },
        "id": "DcwvfcHGlaMb",
        "outputId": "0d5aeef7-3c3f-4d28-8f28-aa3e024b89d7"
      },
      "execution_count": null,
      "outputs": [
        {
          "output_type": "execute_result",
          "data": {
            "text/plain": [
              "0.6666666666666667"
            ]
          },
          "metadata": {},
          "execution_count": 14
        }
      ]
    },
    {
      "cell_type": "code",
      "source": [
        "#Les taux d'inertie porté sur chaque axe(de 1 à 3)\n",
        "T = []\n",
        "for i in range(3):\n",
        "  T.append((valp[i]/Trace) * 100)\n",
        "T"
      ],
      "metadata": {
        "colab": {
          "base_uri": "https://localhost:8080/"
        },
        "id": "gJUY5Us2lkEC",
        "outputId": "bf2c1a6b-0097-4fa9-d9e0-e329a650ed5e"
      },
      "execution_count": null,
      "outputs": [
        {
          "output_type": "execute_result",
          "data": {
            "text/plain": [
              "[74.99999999999993, -5.452626367183788e-15, 24.999999999999996]"
            ]
          },
          "metadata": {},
          "execution_count": 15
        }
      ]
    },
    {
      "cell_type": "code",
      "source": [
        "#On prend le 1 et le 3 eme\n",
        "u1 = vectp.T[0]\n",
        "u2 = vectp.T[2]\n",
        "norme_u1 = np.sqrt((u1[0]**2 + u1[1]**2 + u1[2]**2))\n",
        "print(norme_u1)\n",
        "print()\n",
        "norme_u2 = np.sqrt((u2[0]**2 + u2[1]**2 + u2[2]**2))\n",
        "print(norme_u2)"
      ],
      "metadata": {
        "colab": {
          "base_uri": "https://localhost:8080/"
        },
        "id": "_GlN4_4hl9fd",
        "outputId": "f33c7081-c5b6-4385-c91f-6c67816ceef9"
      },
      "execution_count": null,
      "outputs": [
        {
          "output_type": "stream",
          "name": "stdout",
          "text": [
            "1.0\n",
            "\n",
            "0.9999999999999999\n"
          ]
        }
      ]
    },
    {
      "cell_type": "markdown",
      "source": [
        "##Les facteurs Lignes (Composantes principales)"
      ],
      "metadata": {
        "id": "g_8Kg3v_mXJb"
      }
    },
    {
      "cell_type": "code",
      "source": [
        "C1 = np.matmul(Y, u1)\n",
        "C2 = np.matmul(Y, u2)\n",
        "print('C1 = ', C1,\"\\n\\n\")\n",
        "print('C2 = ', C2)"
      ],
      "metadata": {
        "colab": {
          "base_uri": "https://localhost:8080/"
        },
        "id": "-k_I6S8hmTLv",
        "outputId": "26b1a806-a489-40d9-d311-b4082e49627e"
      },
      "execution_count": null,
      "outputs": [
        {
          "output_type": "stream",
          "name": "stdout",
          "text": [
            "C1 =  [-0.61237244  0.         -1.22474487  0.61237244  1.22474487] \n",
            "\n",
            "\n",
            "C2 =  [-0.35355339  0.          0.70710678 -0.35355339  0.70710678]\n"
          ]
        }
      ]
    },
    {
      "cell_type": "markdown",
      "source": [
        "##La matrice des projections des profils-lignes sur chaque axe"
      ],
      "metadata": {
        "id": "3_Bxok9jnPVN"
      }
    },
    {
      "cell_type": "code",
      "source": [
        "#La matrice des projections des profils-lignes sur chaque axe\n",
        "mtx = np.array([C1, C2])\n",
        "mtx = mtx.T\n",
        "mtx"
      ],
      "metadata": {
        "colab": {
          "base_uri": "https://localhost:8080/"
        },
        "id": "aB7JWNMrmrAd",
        "outputId": "3f360f21-0b86-4245-ab82-1ac666a6cbde"
      },
      "execution_count": null,
      "outputs": [
        {
          "output_type": "execute_result",
          "data": {
            "text/plain": [
              "array([[-0.61237244, -0.35355339],\n",
              "       [ 0.        ,  0.        ],\n",
              "       [-1.22474487,  0.70710678],\n",
              "       [ 0.61237244, -0.35355339],\n",
              "       [ 1.22474487,  0.70710678]])"
            ]
          },
          "metadata": {},
          "execution_count": 18
        }
      ]
    },
    {
      "cell_type": "markdown",
      "source": [
        "##les Facteurs colonnes du nuage de profils-colonnes"
      ],
      "metadata": {
        "id": "Tpbsn5VNnLcv"
      }
    },
    {
      "cell_type": "code",
      "source": [
        "fi1 = (np.sqrt(valp[0])/g[0]) * u1\n",
        "fi2 = (np.sqrt(valp[2])/g[1]) * u2\n",
        "matricefi =np.array([fi1, fi2])\n",
        "matricefi"
      ],
      "metadata": {
        "colab": {
          "base_uri": "https://localhost:8080/"
        },
        "id": "3b2ZC5kZnSdO",
        "outputId": "ebc89267-6e19-44f5-95c8-822dfdc1679e"
      },
      "execution_count": null,
      "outputs": [
        {
          "output_type": "execute_result",
          "data": {
            "text/plain": [
              "array([[-8.66025404e-01, -2.67144583e-16,  8.66025404e-01],\n",
              "       [ 2.88675135e-01, -5.77350269e-01,  2.88675135e-01]])"
            ]
          },
          "metadata": {},
          "execution_count": 19
        }
      ]
    },
    {
      "cell_type": "code",
      "source": [
        "(fig, ax) = plt.subplots(figsize = (8,8))\n",
        "ax.set_xlim(-2,2)\n",
        "ax.set_ylim(-2,2)\n",
        "\n",
        "for i in range(0, fi1.shape[0]):\n",
        "  plt.text(fi1[i] + 0.05, fi2[i] +0.05, \"x2_\"+str(i))\n",
        "\n",
        "plt.scatter(fi1, fi2,c='b', marker=\"o\" )\n",
        "an = np.linspace(0, 2*np.pi, 100 )\n",
        "\n",
        "plt.axis('equal')\n",
        "\n",
        "#ajouter les axes\n",
        "plt.plot([-2,2],[0,0],color='red',linestyle='-',linewidth=1)\n",
        "plt.plot([0,0],[-2,2],color='red',linestyle='-',linewidth=1)\n",
        "\n",
        "for i in range(0, C1.shape[0]):\n",
        "  plt.text(C1[i] + 0.05, C2[i] +0.05, \"x1_\"+str(i))\n",
        "\n",
        "plt.scatter(C1, C2,c='r', marker=\"o\" )\n",
        "plt.show()"
      ],
      "metadata": {
        "colab": {
          "base_uri": "https://localhost:8080/",
          "height": 483
        },
        "id": "5U5zOjzKnsjg",
        "outputId": "eeba4e9a-03ef-40be-f097-977f79a6b70b"
      },
      "execution_count": null,
      "outputs": [
        {
          "output_type": "display_data",
          "data": {
            "text/plain": [
              "<Figure size 576x576 with 1 Axes>"
            ],
            "image/png": "[encoded data removed]"
          },
          "metadata": {
            "needs_background": "light"
          }
        }
      ]
    },
    {
      "cell_type": "markdown",
      "source": [
        "l'interpretation graphique est trés utile pour voir les les relations entre les differents points dans le nouveau espace.\n",
        "\n",
        "Un point de grande coordonnée peut très bien avoir\n",
        "une faible contribution à l’axe, et inversement.\n",
        "\n",
        "Comme en ACP, si un point est très éloigné du reste du nuage et\n",
        "détermine à lui seul la direction du premier axe.\n",
        "\n",
        "les points qui sont proches sont dans une forte relation comme(x1_1 et x2_1)\n",
        "\n",
        "on remarque aussi qu'on a des point symetriques par rapport aus axes proncipaux comme x2_2 et x2_0 "
      ],
      "metadata": {
        "id": "w5B43hZ4vRHh"
      }
    },
    {
      "cell_type": "code",
      "source": [
        "#La contibution\n",
        "C11=0\n",
        "C22=0\n",
        "\n",
        "for i in range(3):\n",
        "  C11 =((1/fmc[i])*(fi1[i]**2)/valp[0])\n",
        "  C22 =((1/fmc[i])*(fi2[i]**2)/valp[2])\n",
        "  print(C11,C22)  "
      ],
      "metadata": {
        "colab": {
          "base_uri": "https://localhost:8080/"
        },
        "id": "hBlm5MAW2yMU",
        "outputId": "7c61f31a-eb1e-4ad1-d9da-a5d8f8991df8"
      },
      "execution_count": null,
      "outputs": [
        {
          "output_type": "stream",
          "name": "stdout",
          "text": [
            "4.499999999999997 1.4999999999999982\n",
            "4.281973677867996e-31 6.000000000000004\n",
            "4.500000000000004 1.4999999999999982\n"
          ]
        }
      ]
    }
  ]
}